{
 "cells": [
  {
   "cell_type": "markdown",
   "id": "1f76ce2d-1fc9-4920-a572-0fe2a426d4e7",
   "metadata": {},
   "source": [
    "# Data Science Tools and Ecosystem"
   ]
  },
  {
   "cell_type": "markdown",
   "id": "269a00fd-61ee-4693-8fec-7dd8b3ca32b6",
   "metadata": {
    "jp-MarkdownHeadingCollapsed": true,
    "tags": []
   },
   "source": [
    "In this notebook, Data Science Tools and Ecosystem are summarized."
   ]
  },
  {
   "cell_type": "markdown",
   "id": "083b1d30-d66b-4246-9a7b-77518acda35b",
   "metadata": {},
   "source": [
    "**Objectives:**\n",
    "* Categories of Data Science Tools\n",
    "* List of popular languages for Data Science\n",
    "* List of common used libraries used by Data Scientist\n",
    "* Example of arithmetic expression in Phyton "
   ]
  },
  {
   "cell_type": "markdown",
   "id": "2fdf028e-70a9-40d3-8cfa-5e605c824d7f",
   "metadata": {
    "tags": []
   },
   "source": [
    "Some of the popular languages that Data Scientists use are:"
   ]
  },
  {
   "cell_type": "markdown",
   "id": "959b2eff-00a5-45e7-bfec-5a62bc90263e",
   "metadata": {},
   "source": [
    "1. Phyton\n",
    "2. Java\n",
    "3. C++\n",
    "4. C\n",
    "5. R\n",
    "6. SQL\n",
    "7. Julia\n"
   ]
  },
  {
   "cell_type": "markdown",
   "id": "c7fd4143-9592-4811-a932-205dd7d0f608",
   "metadata": {},
   "source": [
    "Some of the commonly libraries used by Data Scientists incluede: "
   ]
  },
  {
   "cell_type": "markdown",
   "id": "cf207e17-05e4-4429-a19b-e89c4a340c6b",
   "metadata": {
    "tags": []
   },
   "source": [
    "1.  TensorFlow \n",
    "2.  NumPy\n",
    "3.  SciPy \n",
    "4.  Pandas\n",
    "5.  Matplotlib \n",
    "6.  Keras\n",
    "7.  SciKit-Learn\n",
    "8.  PyTorch\n",
    "9.  Scrapy\n",
    "10. Beautiful Soup\n",
    "11. LightGBM\n",
    "12. ELI5\n",
    "13. Theano\n",
    "14. NuPIC"
   ]
  },
  {
   "cell_type": "markdown",
   "id": "fd870559-0308-43a3-ab20-7cfdeb7da700",
   "metadata": {},
   "source": [
    "|Data Science Tools |\n",
    "|-------------------|\n",
    "|Data Management Tools:  Apache Airflow and Apache Kafka |\n",
    "|Data Integration and Transformation Tools: Apache Airflow and Apache Kafka |\n",
    "|Data Visualization Tools: Cognos Analytics, Tableau and PowerBI |"
   ]
  },
  {
   "cell_type": "markdown",
   "id": "d9d40126-6afb-401b-ba5d-fe9392213920",
   "metadata": {},
   "source": [
    "### Below are a few examples of evaluating arithmetic expressions in Python"
   ]
  },
  {
   "cell_type": "code",
   "execution_count": 11,
   "id": "32fb449d-7919-46d1-a196-637cf0f790aa",
   "metadata": {},
   "outputs": [
    {
     "data": {
      "text/plain": [
       "17"
      ]
     },
     "execution_count": 11,
     "metadata": {},
     "output_type": "execute_result"
    }
   ],
   "source": [
    "# This a simple arithmetic expression to mutiply then add integers\n",
    "x = (3*4)\n",
    "x + 5"
   ]
  },
  {
   "cell_type": "code",
   "execution_count": 12,
   "id": "d5ffb688-d888-4eb5-9206-9084595608ca",
   "metadata": {},
   "outputs": [
    {
     "data": {
      "text/plain": [
       "3.3333333333333335"
      ]
     },
     "execution_count": 12,
     "metadata": {},
     "output_type": "execute_result"
    }
   ],
   "source": [
    "# This will convert 200 minutes to hours by diving by 60\n",
    "200/60"
   ]
  },
  {
   "cell_type": "markdown",
   "id": "b0805e8d-71e3-43e2-9555-212bf31095e4",
   "metadata": {},
   "source": [
    "## Author\n",
    "Iwona Sylwia Grzeskowiak Bacewicz"
   ]
  }
 ],
 "metadata": {
  "kernelspec": {
   "display_name": "anaconda-2022.05-py39",
   "language": "python",
   "name": "conda-env-anaconda-2022.05-py39-py"
  },
  "language_info": {
   "codemirror_mode": {
    "name": "ipython",
    "version": 3
   },
   "file_extension": ".py",
   "mimetype": "text/x-python",
   "name": "python",
   "nbconvert_exporter": "python",
   "pygments_lexer": "ipython3",
   "version": "3.9.12"
  }
 },
 "nbformat": 4,
 "nbformat_minor": 5
}
